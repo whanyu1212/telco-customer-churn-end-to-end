{
 "cells": [
  {
   "cell_type": "code",
   "execution_count": 4,
   "metadata": {},
   "outputs": [
    {
     "name": "stdout",
     "output_type": "stream",
     "text": [
      "User Current Version:- 3.8.15 (default, Nov 24 2022, 09:04:07) \n",
      "[Clang 14.0.6 ]\n"
     ]
    }
   ],
   "source": [
    "import sys\n",
    "import pandas as pd\n",
    "import numpy as np\n",
    "import xgboost as xgb\n",
    "import yaml\n",
    "from sklearn.metrics import mutual_info_score\n",
    "from xgboost import XGBClassifier\n",
    "from typing import Dict\n",
    "print(\"User Current Version:-\", sys.version)"
   ]
  },
  {
   "cell_type": "code",
   "execution_count": 7,
   "metadata": {},
   "outputs": [],
   "source": [
    "def parse_cfg() -> Dict:\n",
    "    \"\"\"Reading in the config\n",
    "\n",
    "    Returns:\n",
    "        dict: with keys representing the parameters\n",
    "    \"\"\"\n",
    "    with open(\"../config/catalog.yml\", \"r\", encoding=\"utf-8\") as yamlfile:\n",
    "        cfg = yaml.load(yamlfile, Loader=yaml.FullLoader)\n",
    "    return cfg"
   ]
  },
  {
   "cell_type": "code",
   "execution_count": 8,
   "metadata": {},
   "outputs": [
    {
     "data": {
      "text/plain": [
       "{'data_local_directory': {'path': './data/telco_customer_churn.csv'},\n",
       " 'split_size': 0.2,\n",
       " 'RS': 42,\n",
       " 'project_id': 'sacred-garden-369506',\n",
       " 'dataset_id': 'personal_project',\n",
       " 'table_id': 'telco-customer_churn',\n",
       " 'cat_columns': ['gender',\n",
       "  'Partner',\n",
       "  'Dependents',\n",
       "  'PhoneService',\n",
       "  'MultipleLines',\n",
       "  'InternetService',\n",
       "  'OnlineSecurity',\n",
       "  'OnlineBackup',\n",
       "  'DeviceProtection',\n",
       "  'TechSupport',\n",
       "  'StreamingTV',\n",
       "  'StreamingMovies',\n",
       "  'Contract',\n",
       "  'PaperlessBilling',\n",
       "  'PaymentMethod']}"
      ]
     },
     "execution_count": 8,
     "metadata": {},
     "output_type": "execute_result"
    }
   ],
   "source": [
    "parse_cfg()"
   ]
  },
  {
   "cell_type": "code",
   "execution_count": null,
   "metadata": {},
   "outputs": [],
   "source": [
    "from google.cloud import bigquery\n",
    "\n",
    "# Construct a BigQuery client object.\n",
    "client = bigquery.Client.from_service_account_json(\"../config/sacred-garden-369506-870f85c5921d.json\")\n",
    "\n",
    "query = \"\"\"\n",
    "    SELECT *\n",
    "    FROM `sacred-garden-369506.personal_project.telco-customer_churn`\n",
    "\"\"\"\n",
    "query_job = (\n",
    "    client\n",
    "    .query(query).to_dataframe()\n",
    "    .query(\"TotalCharges!=' '\")\n",
    "    .assign(TotalCharges = lambda x:x.TotalCharges.astype(float))\n",
    "    .assign(SeniorCitizen = lambda x:x.SeniorCitizen.astype(str))\n",
    "    .reset_index(drop=True)\n",
    ")\n",
    "\n",
    "df = query_job.drop('customerID',axis=1)\n"
   ]
  },
  {
   "cell_type": "code",
   "execution_count": null,
   "metadata": {},
   "outputs": [],
   "source": [
    "df.head()"
   ]
  },
  {
   "cell_type": "code",
   "execution_count": null,
   "metadata": {},
   "outputs": [],
   "source": [
    "df.info()"
   ]
  },
  {
   "cell_type": "code",
   "execution_count": null,
   "metadata": {},
   "outputs": [],
   "source": [
    "cat_list = df.select_dtypes(exclude=['float64','Int64']).columns.tolist()\n",
    "cat_list = [e for e in cat_list if e not in ('customerID', 'Churn')]"
   ]
  },
  {
   "cell_type": "code",
   "execution_count": null,
   "metadata": {},
   "outputs": [],
   "source": [
    "mutual_info_dict = {}\n",
    "for i in cat_list:\n",
    "    mutual_info_dict[i] = mutual_info_score(df[i],df.Churn)"
   ]
  },
  {
   "cell_type": "code",
   "execution_count": null,
   "metadata": {},
   "outputs": [],
   "source": [
    "dict(sorted(mutual_info_dict.items(), key=lambda item: item[1],reverse=True))"
   ]
  },
  {
   "cell_type": "code",
   "execution_count": null,
   "metadata": {},
   "outputs": [],
   "source": [
    "cat_list"
   ]
  },
  {
   "cell_type": "code",
   "execution_count": null,
   "metadata": {},
   "outputs": [],
   "source": [
    "gender_encoded = pd.DataFrame(pd.get_dummies(df['gender'],prefix='gender',prefix_sep=':'))\n",
    "\n",
    "partner_encoded = pd.DataFrame(pd.get_dummies(df['Partner'],prefix='Partner',prefix_sep=':'))\n",
    "\n",
    "dependents_encoded = pd.DataFrame(pd.get_dummies(df['Dependents'],prefix='Dependents',prefix_sep=':'))\n",
    "\n",
    "phone_service_encoded = pd.DataFrame(pd.get_dummies(df['PhoneService'],prefix='PhoneService',prefix_sep=':'))\n",
    "\n",
    "multiple_lines_encoded = pd.DataFrame(pd.get_dummies(df['MultipleLines'],prefix='MultipleLines',prefix_sep=':'))\n",
    "\n",
    "internet_service_encoded = pd.DataFrame(pd.get_dummies(df['InternetService'],prefix='InternetService',prefix_sep=':'))\n",
    "\n",
    "online_security_encoded = pd.DataFrame(pd.get_dummies(df['OnlineSecurity'],prefix='OnlineSecurity',prefix_sep=':'))\n",
    "\n",
    "online_backup_encoded = pd.DataFrame(pd.get_dummies(df['OnlineBackup'],prefix='OnlineBackup',prefix_sep=':'))\n",
    "\n",
    "device_protection_encoded = pd.DataFrame(pd.get_dummies(df['DeviceProtection'],prefix='DeviceProtection',prefix_sep=':'))\n",
    "\n",
    "tech_support_encoded = pd.DataFrame(pd.get_dummies(df['TechSupport'],prefix='TechSupport',prefix_sep=':'))\n",
    "\n",
    "streaming_tv_encoded = pd.DataFrame(pd.get_dummies(df['StreamingTV'],prefix='StreamingTV',prefix_sep=':'))\n",
    "\n",
    "streaming_movie_encoded = pd.DataFrame(pd.get_dummies(df['StreamingMovies'],prefix='StreamingMovies',prefix_sep=':'))\n",
    "\n",
    "contract_encoded = pd.DataFrame(pd.get_dummies(df['Contract'],prefix='Contract',prefix_sep=':'))\n",
    "\n",
    "paperless_billing_encoded = pd.DataFrame(pd.get_dummies(df['PaperlessBilling'],prefix='PaperlessBilling',prefix_sep=':'))\n",
    "\n",
    "payment_method_encoded = pd.DataFrame(pd.get_dummies(df['PaymentMethod'],prefix='PaymentMethod',prefix_sep=':'))"
   ]
  },
  {
   "cell_type": "code",
   "execution_count": null,
   "metadata": {},
   "outputs": [],
   "source": [
    "df_final = pd.concat([gender_encoded,partner_encoded,dependents_encoded,phone_service_encoded,multiple_lines_encoded,\n",
    "        internet_service_encoded,online_security_encoded,online_backup_encoded,device_protection_encoded,\n",
    "        tech_support_encoded,streaming_tv_encoded,streaming_movie_encoded,contract_encoded,\n",
    "        paperless_billing_encoded,payment_method_encoded,df['tenure'],df['SeniorCitizen'].astype(int),df['MonthlyCharges'],\n",
    "        df['TotalCharges'],df['Churn']],axis=1)"
   ]
  },
  {
   "cell_type": "code",
   "execution_count": null,
   "metadata": {},
   "outputs": [],
   "source": [
    "from sklearn import preprocessing\n",
    "le = preprocessing.LabelEncoder()\n",
    "le.fit(df_final.Churn)\n",
    "df_final.Churn = le.transform(df_final.Churn)\n"
   ]
  },
  {
   "cell_type": "code",
   "execution_count": null,
   "metadata": {},
   "outputs": [],
   "source": [
    "from sklearn.model_selection import train_test_split\n",
    "X,y = df_final.drop('Churn',axis=1),df_final['Churn']\n",
    "X_train, X_test, y_train, y_test = train_test_split(X, y, test_size=0.2, random_state=42)"
   ]
  },
  {
   "cell_type": "code",
   "execution_count": null,
   "metadata": {},
   "outputs": [],
   "source": [
    "xgb_cl = XGBClassifier()\n",
    "xgb_cl.fit(X_train,y_train)"
   ]
  },
  {
   "cell_type": "code",
   "execution_count": null,
   "metadata": {},
   "outputs": [],
   "source": [
    "y_pred = xgb_cl.predict(X_test)"
   ]
  },
  {
   "cell_type": "code",
   "execution_count": null,
   "metadata": {},
   "outputs": [],
   "source": [
    "from sklearn.metrics import confusion_matrix\n",
    "confusion_matrix(y_test,y_pred)"
   ]
  },
  {
   "cell_type": "code",
   "execution_count": null,
   "metadata": {},
   "outputs": [],
   "source": [
    "from sklearn.metrics import accuracy_score\n",
    "accuracy_score(y_test,y_pred)"
   ]
  },
  {
   "cell_type": "code",
   "execution_count": null,
   "metadata": {},
   "outputs": [],
   "source": []
  }
 ],
 "metadata": {
  "kernelspec": {
   "display_name": "mlops",
   "language": "python",
   "name": "python3"
  },
  "language_info": {
   "codemirror_mode": {
    "name": "ipython",
    "version": 3
   },
   "file_extension": ".py",
   "mimetype": "text/x-python",
   "name": "python",
   "nbconvert_exporter": "python",
   "pygments_lexer": "ipython3",
   "version": "3.8.15"
  },
  "orig_nbformat": 4,
  "vscode": {
   "interpreter": {
    "hash": "f3a206a919fa3071b9e73b5b143c52802b2ba621d20b8a37586e0824ffacd7cd"
   }
  }
 },
 "nbformat": 4,
 "nbformat_minor": 2
}
